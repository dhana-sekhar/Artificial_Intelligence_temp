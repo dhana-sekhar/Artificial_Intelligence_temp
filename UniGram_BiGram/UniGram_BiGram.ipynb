{
  "nbformat": 4,
  "nbformat_minor": 0,
  "metadata": {
    "colab": {
      "name": "UniGram_BiGram.ipynb",
      "provenance": [],
      "authorship_tag": "ABX9TyNtRICAQ2gmozgBvCKHzJyt"
    },
    "kernelspec": {
      "name": "python3",
      "display_name": "Python 3"
    }
  },
  "cells": [
    {
      "cell_type": "code",
      "metadata": {
        "id": "7kNJjx4IBKy4",
        "colab_type": "code",
        "colab": {}
      },
      "source": [
        "from sklearn.feature_extraction.text import CountVectorizer"
      ],
      "execution_count": 9,
      "outputs": []
    },
    {
      "cell_type": "code",
      "metadata": {
        "id": "Ke04892fSTx5",
        "colab_type": "code",
        "colab": {}
      },
      "source": [
        "docs = [\n",
        "  'the cat sat',\n",
        "  'the cat sat in the hat',\n",
        "  'the cat with the hat',\n",
        "]"
      ],
      "execution_count": 10,
      "outputs": []
    },
    {
      "cell_type": "markdown",
      "metadata": {
        "id": "86tSjZBnTA_P",
        "colab_type": "text"
      },
      "source": [
        "# UniGram"
      ]
    },
    {
      "cell_type": "code",
      "metadata": {
        "id": "3iIFW5j5RmHA",
        "colab_type": "code",
        "colab": {}
      },
      "source": [
        "unigram = CountVectorizer(ngram_range=(1,1))\n",
        "vector_unigram = unigram.fit_transform(docs)"
      ],
      "execution_count": 11,
      "outputs": []
    },
    {
      "cell_type": "code",
      "metadata": {
        "id": "CyKYyQ9VRjCO",
        "colab_type": "code",
        "colab": {
          "base_uri": "https://localhost:8080/",
          "height": 85
        },
        "outputId": "11ec71ee-26a1-4598-a641-311787b2eac9"
      },
      "source": [
        "print(unigram.get_feature_names())\n",
        "vector_unigram.toarray()"
      ],
      "execution_count": 13,
      "outputs": [
        {
          "output_type": "stream",
          "text": [
            "['cat', 'hat', 'in', 'sat', 'the', 'with']\n"
          ],
          "name": "stdout"
        },
        {
          "output_type": "execute_result",
          "data": {
            "text/plain": [
              "array([[1, 0, 0, 1, 1, 0],\n",
              "       [1, 1, 1, 1, 2, 0],\n",
              "       [1, 1, 0, 0, 2, 1]])"
            ]
          },
          "metadata": {
            "tags": []
          },
          "execution_count": 13
        }
      ]
    },
    {
      "cell_type": "markdown",
      "metadata": {
        "id": "Uv3CKCXtS8gQ",
        "colab_type": "text"
      },
      "source": [
        "# BiGram"
      ]
    },
    {
      "cell_type": "code",
      "metadata": {
        "id": "7HtZCASTSva3",
        "colab_type": "code",
        "colab": {}
      },
      "source": [
        "bigram = CountVectorizer(ngram_range=(2,2))\n",
        "vector_bigram = bigram.fit_transform(docs)"
      ],
      "execution_count": 16,
      "outputs": []
    },
    {
      "cell_type": "code",
      "metadata": {
        "id": "ufarX2eyTOoe",
        "colab_type": "code",
        "colab": {
          "base_uri": "https://localhost:8080/",
          "height": 85
        },
        "outputId": "1ef586ee-16c8-4938-be9a-9bb3b26d7bbc"
      },
      "source": [
        "print(bigram.get_feature_names())\n",
        "vector_bigram.toarray()"
      ],
      "execution_count": 17,
      "outputs": [
        {
          "output_type": "stream",
          "text": [
            "['cat sat', 'cat with', 'in the', 'sat in', 'the cat', 'the hat', 'with the']\n"
          ],
          "name": "stdout"
        },
        {
          "output_type": "execute_result",
          "data": {
            "text/plain": [
              "array([[1, 0, 0, 0, 1, 0, 0],\n",
              "       [1, 0, 1, 1, 1, 1, 0],\n",
              "       [0, 1, 0, 0, 1, 1, 1]])"
            ]
          },
          "metadata": {
            "tags": []
          },
          "execution_count": 17
        }
      ]
    },
    {
      "cell_type": "markdown",
      "metadata": {
        "id": "kl0J_2ZHTdOQ",
        "colab_type": "text"
      },
      "source": [
        "# TriGram"
      ]
    },
    {
      "cell_type": "code",
      "metadata": {
        "id": "bGUr_34MTVL_",
        "colab_type": "code",
        "colab": {}
      },
      "source": [
        "trigram = CountVectorizer(ngram_range=(3,3))\n",
        "vector_trigram = trigram.fit_transform(docs)"
      ],
      "execution_count": 18,
      "outputs": []
    },
    {
      "cell_type": "code",
      "metadata": {
        "id": "IoJGE7guTlT-",
        "colab_type": "code",
        "colab": {
          "base_uri": "https://localhost:8080/",
          "height": 85
        },
        "outputId": "0e023a6f-9c8c-49fa-f7fd-11fe4fd2099e"
      },
      "source": [
        "print(trigram.get_feature_names())\n",
        "vector_trigram.toarray()"
      ],
      "execution_count": 19,
      "outputs": [
        {
          "output_type": "stream",
          "text": [
            "['cat sat in', 'cat with the', 'in the hat', 'sat in the', 'the cat sat', 'the cat with', 'with the hat']\n"
          ],
          "name": "stdout"
        },
        {
          "output_type": "execute_result",
          "data": {
            "text/plain": [
              "array([[0, 0, 0, 0, 1, 0, 0],\n",
              "       [1, 0, 1, 1, 1, 0, 0],\n",
              "       [0, 1, 0, 0, 0, 1, 1]])"
            ]
          },
          "metadata": {
            "tags": []
          },
          "execution_count": 19
        }
      ]
    },
    {
      "cell_type": "code",
      "metadata": {
        "id": "f4TQC71iTrDC",
        "colab_type": "code",
        "colab": {}
      },
      "source": [
        ""
      ],
      "execution_count": null,
      "outputs": []
    }
  ]
}