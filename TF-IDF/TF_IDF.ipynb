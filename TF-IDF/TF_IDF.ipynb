{
  "nbformat": 4,
  "nbformat_minor": 0,
  "metadata": {
    "colab": {
      "name": "TF-IDF.ipynb",
      "provenance": [],
      "mount_file_id": "1DwwnWA-m8zvzL6IpR1mbt_8kPg2V7e-C",
      "authorship_tag": "ABX9TyPl9MtG8tTHU9NqcLKNzxVq"
    },
    "kernelspec": {
      "name": "python3",
      "display_name": "Python 3"
    }
  },
  "cells": [
    {
      "cell_type": "code",
      "metadata": {
        "id": "v8ubmKA5qp_X",
        "colab_type": "code",
        "colab": {}
      },
      "source": [
        "from sklearn.feature_extraction.text import TfidfVectorizer"
      ],
      "execution_count": 1,
      "outputs": []
    },
    {
      "cell_type": "code",
      "metadata": {
        "id": "ZzsaksPf48zF",
        "colab_type": "code",
        "colab": {}
      },
      "source": [
        "docs = [\n",
        "  'the cat sat',\n",
        "  'the cat sat in the hat',\n",
        "  'the cat with the hat',\n",
        "]"
      ],
      "execution_count": 2,
      "outputs": []
    },
    {
      "cell_type": "code",
      "metadata": {
        "id": "J-LuRgTb4nvt",
        "colab_type": "code",
        "colab": {}
      },
      "source": [
        "tfvectorizer = TfidfVectorizer()\n",
        "vector = tfvectorizer.fit_transform(docs)"
      ],
      "execution_count": 3,
      "outputs": []
    },
    {
      "cell_type": "code",
      "metadata": {
        "id": "PaUf23Jo5IJi",
        "colab_type": "code",
        "colab": {
          "base_uri": "https://localhost:8080/",
          "height": 142
        },
        "outputId": "751ac6f0-ef6a-4cb7-f352-d22ccca445d3"
      },
      "source": [
        "import pandas as pd\n",
        "# print(tfvectorizer.get_feature_names())\n",
        "# print(vector.toarray())\n",
        "pd.DataFrame(vector.toarray(), columns=tfvectorizer.get_feature_names())"
      ],
      "execution_count": 13,
      "outputs": [
        {
          "output_type": "execute_result",
          "data": {
            "text/html": [
              "<div>\n",
              "<style scoped>\n",
              "    .dataframe tbody tr th:only-of-type {\n",
              "        vertical-align: middle;\n",
              "    }\n",
              "\n",
              "    .dataframe tbody tr th {\n",
              "        vertical-align: top;\n",
              "    }\n",
              "\n",
              "    .dataframe thead th {\n",
              "        text-align: right;\n",
              "    }\n",
              "</style>\n",
              "<table border=\"1\" class=\"dataframe\">\n",
              "  <thead>\n",
              "    <tr style=\"text-align: right;\">\n",
              "      <th></th>\n",
              "      <th>cat</th>\n",
              "      <th>hat</th>\n",
              "      <th>in</th>\n",
              "      <th>sat</th>\n",
              "      <th>the</th>\n",
              "      <th>with</th>\n",
              "    </tr>\n",
              "  </thead>\n",
              "  <tbody>\n",
              "    <tr>\n",
              "      <th>0</th>\n",
              "      <td>0.522842</td>\n",
              "      <td>0.000000</td>\n",
              "      <td>0.000000</td>\n",
              "      <td>0.673255</td>\n",
              "      <td>0.522842</td>\n",
              "      <td>0.000000</td>\n",
              "    </tr>\n",
              "    <tr>\n",
              "      <th>1</th>\n",
              "      <td>0.299034</td>\n",
              "      <td>0.385061</td>\n",
              "      <td>0.506309</td>\n",
              "      <td>0.385061</td>\n",
              "      <td>0.598068</td>\n",
              "      <td>0.000000</td>\n",
              "    </tr>\n",
              "    <tr>\n",
              "      <th>2</th>\n",
              "      <td>0.324019</td>\n",
              "      <td>0.417233</td>\n",
              "      <td>0.000000</td>\n",
              "      <td>0.000000</td>\n",
              "      <td>0.648038</td>\n",
              "      <td>0.548612</td>\n",
              "    </tr>\n",
              "  </tbody>\n",
              "</table>\n",
              "</div>"
            ],
            "text/plain": [
              "        cat       hat        in       sat       the      with\n",
              "0  0.522842  0.000000  0.000000  0.673255  0.522842  0.000000\n",
              "1  0.299034  0.385061  0.506309  0.385061  0.598068  0.000000\n",
              "2  0.324019  0.417233  0.000000  0.000000  0.648038  0.548612"
            ]
          },
          "metadata": {
            "tags": []
          },
          "execution_count": 13
        }
      ]
    },
    {
      "cell_type": "code",
      "metadata": {
        "id": "Zn7lumEg5NxB",
        "colab_type": "code",
        "colab": {}
      },
      "source": [
        ""
      ],
      "execution_count": 13,
      "outputs": []
    },
    {
      "cell_type": "code",
      "metadata": {
        "id": "KbGaMfoN6zP4",
        "colab_type": "code",
        "colab": {}
      },
      "source": [
        ""
      ],
      "execution_count": null,
      "outputs": []
    }
  ]
}